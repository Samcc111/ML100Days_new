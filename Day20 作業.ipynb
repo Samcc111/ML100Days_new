{
 "cells": [
  {
   "cell_type": "markdown",
   "metadata": {},
   "source": [
    "作業題⽬\n",
    "1. 在速度較慢的時候，可以先從哪邊開始檢查？\n",
    "2. 資料過⼤時應採取什麼⽅式讓記憶體占⽤量下降？\n"
   ]
  },
  {
   "cell_type": "code",
   "execution_count": 1,
   "metadata": {},
   "outputs": [
    {
     "name": "stdout",
     "output_type": "stream",
     "text": [
      "Ans01 : 先從檔案類型、讀取的字形態、使用的函數\n"
     ]
    }
   ],
   "source": [
    "print(\"Ans01 : 先從檔案類型、讀取的字形態、使用的函數\")"
   ]
  },
  {
   "cell_type": "code",
   "execution_count": 2,
   "metadata": {},
   "outputs": [
    {
     "name": "stdout",
     "output_type": "stream",
     "text": [
      "Ans02 : 欄位的型態<降級>有助於減少記憶體佔用空間\n"
     ]
    }
   ],
   "source": [
    "print(\"Ans02 : 欄位的型態<降級>有助於減少記憶體佔用空間\")"
   ]
  },
  {
   "cell_type": "code",
   "execution_count": null,
   "metadata": {},
   "outputs": [],
   "source": []
  }
 ],
 "metadata": {
  "kernelspec": {
   "display_name": "Python 3",
   "language": "python",
   "name": "python3"
  },
  "language_info": {
   "codemirror_mode": {
    "name": "ipython",
    "version": 3
   },
   "file_extension": ".py",
   "mimetype": "text/x-python",
   "name": "python",
   "nbconvert_exporter": "python",
   "pygments_lexer": "ipython3",
   "version": "3.8.5"
  }
 },
 "nbformat": 4,
 "nbformat_minor": 4
}
