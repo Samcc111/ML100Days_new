{
 "cells": [
  {
   "cell_type": "markdown",
   "metadata": {
    "id": "H-z4L8J371GO"
   },
   "source": [
    "## 作業:\n",
    "今天學到不同統計量之間特性，  \n",
    "試著分析男生女生身高資料，  \n",
    "試著回答下面的問題:  \n",
    "Q1:試著用今天所教的內容，如何描述這兩組資料的樣態?    \n",
    "Q2: 請問男生和女生在平均身高上誰比較高?   \n",
    "Q3:請問第二題的答案和日常生活中觀察的一致嗎? 如果不一致，你覺得原因可能為何?    \n",
    "上述問題透過  python 語法進行運算，\n",
    "並將上述答案填寫在 (google 表單)[https://docs.google.com/forms/d/e/1FAIpQLSdDzwpeJl8YLPwZaW8pBZvtuXY9kIbbZLqxcXyzFaoraV5JEA/viewform ]\n",
    "![](作業資料圖檔.PNG)"
   ]
  },
  {
   "cell_type": "code",
   "execution_count": 2,
   "metadata": {},
   "outputs": [],
   "source": [
    "import numpy as np\n",
    "import pandas as pd\n",
    "import matplotlib.pyplot as plt\n",
    "import scipy as stats\n",
    "import math \n",
    "import statistics\n",
    "import seaborn  as sns"
   ]
  },
  {
   "cell_type": "code",
   "execution_count": 5,
   "metadata": {
    "id": "3NtzuWtt71GU",
    "outputId": "be21c4eb-a6c2-4674-aadd-d378bafc0428"
   },
   "outputs": [],
   "source": [
    "## 輸入資料\n",
    "boys=[164, 176, 169, 169, 165, 175, 159, 151, 144, 160, 183, 165, 156, 170,\n",
    " 164, 173, 165, 163, 177, 171]\n",
    "girls=[169, 183, 170, 168, 182, 170 , 173,185,151,156,162,169,162,181,159,\n",
    "      154,167,175,170,160]"
   ]
  },
  {
   "cell_type": "code",
   "execution_count": 22,
   "metadata": {
    "id": "uDM9AzrY71GW",
    "outputId": "f4e7ede3-fda9-4858-f122-af7c3b3f3ad4"
   },
   "outputs": [
    {
     "name": "stdout",
     "output_type": "stream",
     "text": [
      "男生平均身高: 165.95\n",
      "女生平均身高: 168.3\n",
      "男生身高中位數: 165.0\n",
      "女生身高中位數: 169.0\n",
      "男生身高眾數: 165\n",
      "女生身高眾數: 170\n",
      "男生身高標準差: 9.213691185575838\n",
      "女生身高標準差: 9.766214587465353\n",
      "男生身高全距: 39\n",
      "女生身高全距: 34\n"
     ]
    }
   ],
   "source": [
    "#Q1:試著用今天所教的內容，如何描述這兩組資料的樣態?\n",
    "#暗示:  分別計算男生和女生的統計量\n",
    "# 平均值\n",
    "mean_boy = np.mean(boys)\n",
    "mean_girl = np.mean(girls)\n",
    "\n",
    "print('男生平均身高:',mean_boy)\n",
    "print('女生平均身高:',mean_girl)\n",
    "\n",
    "median_boy = np.median(boys)\n",
    "median_girl = np.median(girls)\n",
    "\n",
    "print('男生身高中位數:',median_boy)\n",
    "print('女生身高中位數:',median_girl)\n",
    "\n",
    "mode_boy = statistics.mode(boys)\n",
    "mode_girl = statistics.mode(girls)\n",
    "\n",
    "print('男生身高眾數:',mode_boy)\n",
    "print('女生身高眾數:',mode_girl)\n",
    "\n",
    "std_boy = np.std(boys,ddof=1)\n",
    "std_girl = np.std(girls,ddof=1)\n",
    "print('男生身高標準差:',std_boy)\n",
    "print('女生身高標準差:',std_girl)\n",
    "\n",
    "def rangecc(x):\n",
    "    return (max(x) -min(x))\n",
    "print('男生身高全距:',rangecc(boys))\n",
    "print('女生身高全距:',rangecc(girls))"
   ]
  },
  {
   "cell_type": "code",
   "execution_count": 23,
   "metadata": {
    "id": "xH_GNsC271GW",
    "outputId": "f4b4c46a-0d8b-421c-9c70-0ebf2aab0e31"
   },
   "outputs": [
    {
     "name": "stdout",
     "output_type": "stream",
     "text": [
      "女生平均身高較高\n"
     ]
    }
   ],
   "source": [
    "#Q2: 請問男生和女生在平均身高上誰比較高? \n",
    "\n",
    "mean_boy = np.mean(boys)\n",
    "mean_girl = np.mean(girls)\n",
    "if mean_boy > mean_girl:\n",
    "    print('男生平均身高較高')\n",
    "elif mean_boy < mean_girl:\n",
    "     print('女生平均身高較高')\n",
    "else:\n",
    "    print('一樣高')"
   ]
  },
  {
   "cell_type": "code",
   "execution_count": 25,
   "metadata": {
    "id": "xAzZU0Dv71GX",
    "outputId": "e2017c09-70fc-41ab-99c0-9d41fe21629d"
   },
   "outputs": [
    {
     "data": {
      "text/plain": [
       "'\\n因為如同抽樣的數量以及頻度會造成平均值上的誤差，而身高的部分或許是因為我們能接觸的人較少(樣本太少)，加上一些極端情形出現\\n因此不容易推論出真正平均身高差異(實際母體的情形)\\n'"
      ]
     },
     "execution_count": 25,
     "metadata": {},
     "output_type": "execute_result"
    }
   ],
   "source": [
    "#Q3:請問第二題的答案和日常生活中觀察的一致嗎? 如果不一致，你覺得原因可能為何? \n",
    "'''\n",
    "因為如同抽樣的數量以及頻度會造成平均值上的誤差，而身高的部分或許是因為我們能接觸的人較少(樣本太少)，加上一些極端情形出現\n",
    "因此不容易推論出真正平均身高差異(實際母體的情形)\n",
    "'''"
   ]
  },
  {
   "cell_type": "code",
   "execution_count": null,
   "metadata": {},
   "outputs": [],
   "source": []
  }
 ],
 "metadata": {
  "colab": {
   "collapsed_sections": [],
   "name": "作業.ipynb",
   "provenance": []
  },
  "kernelspec": {
   "display_name": "Python 3",
   "language": "python",
   "name": "python3"
  },
  "language_info": {
   "codemirror_mode": {
    "name": "ipython",
    "version": 3
   },
   "file_extension": ".py",
   "mimetype": "text/x-python",
   "name": "python",
   "nbconvert_exporter": "python",
   "pygments_lexer": "ipython3",
   "version": "3.8.5"
  }
 },
 "nbformat": 4,
 "nbformat_minor": 1
}
